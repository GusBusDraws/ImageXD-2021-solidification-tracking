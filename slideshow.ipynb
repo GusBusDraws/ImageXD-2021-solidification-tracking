{
 "cells": [
  {
   "cell_type": "markdown",
   "id": "e8a7ba2b",
   "metadata": {
    "slideshow": {
     "slide_type": "slide"
    }
   },
   "source": [
    "# Quantifying solidification of metallic alloys with scikit-image\n",
    "\n",
    "<center><h2>C. Gus Becker</h2></center>\n",
    "<center>\n",
    "    <img src=\"images/csm_logo.png\" width=\"400\">\n",
    "    <img src=\"images/canfsa_logo.png\" width=\"300\">\n",
    "</center>\n",
    "<center><h3>&</h3></center>\n",
    "<center><h2>Marianne Corvellec</h2></center>\n",
    "<center>\n",
    "    <img src=\"images/skimage_logo.png\" width=\"300\">\n",
    "    <img src=\"images/igdore_logo.png\" width=\"300\">\n",
    "</center>\n",
    "\n",
    "#### BIDS ImageXD Conference — May 18, 2021 ― Session 4: Materials Science"
   ]
  },
  {
   "cell_type": "markdown",
   "id": "f7f4ce47",
   "metadata": {
    "slideshow": {
     "slide_type": "slide"
    }
   },
   "source": [
    "# Context and Motivation\n",
    "<img src=\"images/melt_pool.jpg\">\n",
    "<h4><a href=\"https://commons.wikimedia.org/wiki/File:Selective_laser_melting_system_schematic.jpg\">Materialgeeza</a>, <a href=\"https://creativecommons.org/licenses/by-sa/3.0\">CC BY-SA 3.0</a> (Wikimedia Commons)</h4>"
   ]
  },
  {
   "cell_type": "markdown",
   "id": "aea7cf24",
   "metadata": {
    "slideshow": {
     "slide_type": "slide"
    }
   },
   "source": [
    "# Introduction to scikit-image\n",
    "<br />\n",
    "<img src=\"images/skimage_logo.png\">\n",
    "<br />\n",
    "https://scikit-image.org/"
   ]
  },
  {
   "cell_type": "code",
   "execution_count": null,
   "id": "f4867558",
   "metadata": {
    "slideshow": {
     "slide_type": "subslide"
    }
   },
   "outputs": [],
   "source": [
    "import skimage"
   ]
  },
  {
   "cell_type": "code",
   "execution_count": null,
   "id": "22a41e37",
   "metadata": {},
   "outputs": [],
   "source": [
    "from skimage import data"
   ]
  },
  {
   "cell_type": "code",
   "execution_count": null,
   "id": "60682f2f",
   "metadata": {},
   "outputs": [],
   "source": [
    "cat = data.cat()"
   ]
  },
  {
   "cell_type": "code",
   "execution_count": null,
   "id": "807eab62",
   "metadata": {},
   "outputs": [],
   "source": [
    "type(cat)"
   ]
  },
  {
   "cell_type": "code",
   "execution_count": null,
   "id": "c861f89b",
   "metadata": {},
   "outputs": [],
   "source": [
    "cat.ndim"
   ]
  },
  {
   "cell_type": "code",
   "execution_count": null,
   "id": "404098e0",
   "metadata": {
    "slideshow": {
     "slide_type": "subslide"
    }
   },
   "outputs": [],
   "source": [
    "import plotly.express as px"
   ]
  },
  {
   "cell_type": "code",
   "execution_count": null,
   "id": "d10368cb",
   "metadata": {},
   "outputs": [],
   "source": [
    "px.imshow(cat)"
   ]
  },
  {
   "cell_type": "code",
   "execution_count": null,
   "id": "9f58f631",
   "metadata": {
    "slideshow": {
     "slide_type": "subslide"
    }
   },
   "outputs": [],
   "source": [
    "retina = data.retina()"
   ]
  },
  {
   "cell_type": "code",
   "execution_count": null,
   "id": "a80bd008",
   "metadata": {},
   "outputs": [],
   "source": [
    "px.imshow(retina)"
   ]
  },
  {
   "cell_type": "code",
   "execution_count": null,
   "id": "b472ced2",
   "metadata": {},
   "outputs": [],
   "source": [
    "from skimage import color, filters"
   ]
  },
  {
   "cell_type": "code",
   "execution_count": null,
   "id": "bf5da6b6",
   "metadata": {
    "slideshow": {
     "slide_type": "subslide"
    }
   },
   "outputs": [],
   "source": [
    "import matplotlib.pyplot as plt\n",
    "import numpy as np\n",
    "\n",
    "image = retina[:, :, 2]\n",
    "\n",
    "thresh = filters.threshold_multiotsu(image)\n",
    "regions = np.digitize(image, bins=thresh)\n",
    "\n",
    "fig, ax = plt.subplots(ncols=2, figsize=(10, 5))\n",
    "ax[0].imshow(image)\n",
    "ax[0].set_title('Channel 2 in RGB')\n",
    "ax[1].imshow(regions)\n",
    "ax[1].set_title('Multi-Otsu thresholding')\n",
    "plt.show()"
   ]
  },
  {
   "cell_type": "code",
   "execution_count": null,
   "id": "b613289f",
   "metadata": {
    "slideshow": {
     "slide_type": "subslide"
    }
   },
   "outputs": [],
   "source": [
    "conv_img = color.rgb2lab(retina)\n",
    "image = conv_img[:, :, 1]\n",
    "\n",
    "thresh = filters.threshold_multiotsu(image)\n",
    "regions = np.digitize(image, bins=thresh)\n",
    "\n",
    "fig, ax = plt.subplots(ncols=2, figsize=(10, 5))\n",
    "ax[0].imshow(image)\n",
    "ax[0].set_title('Channel 1 in CIELAB')\n",
    "ax[1].imshow(regions)\n",
    "ax[1].set_title('Multi-Otsu thresholding')\n",
    "plt.show()"
   ]
  },
  {
   "cell_type": "markdown",
   "id": "c33fdb8d",
   "metadata": {
    "slideshow": {
     "slide_type": "slide"
    }
   },
   "source": [
    "# APS Solid-Liquid Interface Tracking"
   ]
  },
  {
   "cell_type": "code",
   "execution_count": null,
   "id": "a0867925",
   "metadata": {},
   "outputs": [],
   "source": [
    "import imageio\n",
    "\n",
    "collection = []\n",
    "reader = imageio.get_reader('data/nickel_solidification.tif')\n",
    "for img in reader:\n",
    "    collection.append(img)\n",
    "    \n",
    "len(collection)"
   ]
  },
  {
   "cell_type": "code",
   "execution_count": null,
   "id": "8296ddc7",
   "metadata": {},
   "outputs": [],
   "source": [
    "collection[0].shape"
   ]
  },
  {
   "cell_type": "code",
   "execution_count": null,
   "id": "5cfdddd3",
   "metadata": {},
   "outputs": [],
   "source": [
    "frames = np.stack([img[:180, 100:330] for img in collection])\n",
    "frames.shape"
   ]
  },
  {
   "cell_type": "code",
   "execution_count": null,
   "id": "a06c3324",
   "metadata": {
    "slideshow": {
     "slide_type": "subslide"
    }
   },
   "outputs": [],
   "source": [
    "fig = px.imshow(frames, animation_frame=0, binary_string=True)\n",
    "fig.show()"
   ]
  }
 ],
 "metadata": {
  "celltoolbar": "Slideshow",
  "kernelspec": {
   "display_name": "Python 3",
   "language": "python",
   "name": "python3"
  },
  "language_info": {
   "codemirror_mode": {
    "name": "ipython",
    "version": 3
   },
   "file_extension": ".py",
   "mimetype": "text/x-python",
   "name": "python",
   "nbconvert_exporter": "python",
   "pygments_lexer": "ipython3",
   "version": "3.9.4"
  }
 },
 "nbformat": 4,
 "nbformat_minor": 5
}
