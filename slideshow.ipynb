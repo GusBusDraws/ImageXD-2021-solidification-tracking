{
 "cells": [
  {
   "cell_type": "markdown",
   "id": "e8a7ba2b",
   "metadata": {
    "slideshow": {
     "slide_type": "slide"
    }
   },
   "source": [
    "# Quantifying solidification of metallic alloys with scikit-image\n",
    "\n",
    "<center><h2>C. Gus Becker</h2></center>\n",
    "<center>\n",
    "    <img src=\"images/csm_logo.png\" width=\"400\">\n",
    "    <img src=\"images/canfsa_logo.png\" width=\"300\">\n",
    "</center>\n",
    "<center><h3>&</h3></center>\n",
    "<center><h2>Marianne Corvellec</h2></center>\n",
    "<center>\n",
    "    <img src=\"images/skimage_logo.png\" width=\"300\">\n",
    "    <img src=\"images/igdore_logo.png\" width=\"300\">\n",
    "</center>\n",
    "\n",
    "#### BIDS ImageXD Conference — May 18, 2021 ― Session 4: Materials Science"
   ]
  },
  {
   "cell_type": "code",
   "execution_count": null,
   "id": "698a9e77",
   "metadata": {
    "slideshow": {
     "slide_type": "slide"
    }
   },
   "outputs": [],
   "source": []
  }
 ],
 "metadata": {
  "celltoolbar": "Slideshow",
  "kernelspec": {
   "display_name": "Python 3",
   "language": "python",
   "name": "python3"
  },
  "language_info": {
   "codemirror_mode": {
    "name": "ipython",
    "version": 3
   },
   "file_extension": ".py",
   "mimetype": "text/x-python",
   "name": "python",
   "nbconvert_exporter": "python",
   "pygments_lexer": "ipython3",
   "version": "3.9.4"
  }
 },
 "nbformat": 4,
 "nbformat_minor": 5
}
